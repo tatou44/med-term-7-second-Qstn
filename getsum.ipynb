{
 "cells": [
  {
   "cell_type": "code",
   "execution_count": null,
   "metadata": {},
   "outputs": [],
   "source": [
    "def getSum(numbers, n):\n",
    "\n",
    "    # validations of the input n:\n",
    "    if n <= 0 or n > len(numbers):\n",
    "        raise ValueError('n must be between 1 and length of list.')\n",
    "\n",
    "    # initial sum of the first 'n' numbers\n",
    "    max_sum = current_sum = sum(numbers[:n])\n",
    "\n",
    "    for i in range(n, len(numbers)):\n",
    "\n",
    "        # update the sum by slicing:\n",
    "        current_sum += numbers[i] - numbers[i-1]\n",
    "\n",
    "        # track the maximum sum:\n",
    "        max_sum = max(max_sum, current_sum) \n",
    "\n",
    "    return max_sum        "
   ]
  }
 ],
 "metadata": {
  "language_info": {
   "name": "python"
  },
  "orig_nbformat": 4
 },
 "nbformat": 4,
 "nbformat_minor": 2
}
